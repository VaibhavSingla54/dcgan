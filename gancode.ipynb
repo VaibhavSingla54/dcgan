{
 "cells": [
  {
   "cell_type": "code",
   "execution_count": 1,
   "metadata": {},
   "outputs": [],
   "source": [
    "import torch \n",
    "import torch.nn as nn"
   ]
  },
  {
   "cell_type": "code",
   "execution_count": 10,
   "metadata": {},
   "outputs": [],
   "source": [
    "class Discriminator(nn.Module):\n",
    "    def __init__(self, channels_img, features_d):\n",
    "        super(Discriminator, self).__init__()\n",
    "        self.disc= nn.Sequential(\n",
    "            nn.Conv2d(channels_img, features_d, kernel_size=4, stride=2, padding=1),\n",
    "            nn.LeakyReLU(0.2),\n",
    "            self._block(features_d, features_d*2, 4,2,1),\n",
    "            self._block(features_d*2, features_d*4, 4,2,1),\n",
    "            self._block(features_d*4, features_d*8, 4,2,1),\n",
    "            nn.Conv2d(features_d*8, 1, 4, 2,0),\n",
    "            nn.Sigmoid(),\n",
    "        )\n",
    "\n",
    "    def _block(self, in_channels, out_channels, kernel_size, stride, padding):\n",
    "        return nn.Sequential(\n",
    "            nn.Conv2d(in_channels, out_channels, kernel_size, stride, padding, bias= False),\n",
    "            nn.BatchNorm2d(out_channels),\n",
    "            nn.LeakyReLU(0.2),\n",
    "        )\n",
    "    \n",
    "    def forward(self,x):\n",
    "        return self.disc(x)\n",
    "    \n",
    "\n",
    "class Generator(nn.Module):\n",
    "    def __init__(self, z_dim, channels_img, features_g):\n",
    "        super(Generator,self).__init__()\n",
    "        self.gen= nn.Sequential(\n",
    "            self._block(z_dim, features_g*16, 4,1,0),\n",
    "            self._block(features_g*16, features_g*8,4,2,1),\n",
    "            self._block(features_g*8, features_g*4,4,2,1),\n",
    "            self._block(features_g*4, features_g*2,4,2,1),\n",
    "            nn.ConvTranspose2d(features_g*2, channels_img, 4,2,1),\n",
    "            nn.Tanh(),\n",
    "        )\n",
    "\n",
    "    def _block(self, in_channels, out_channels, kernel_size, stride, padding):\n",
    "        return nn.Sequential(\n",
    "            nn.ConvTranspose2d(in_channels, out_channels, kernel_size, stride, padding, bias=False),\n",
    "            nn.BatchNorm2d(out_channels),\n",
    "            nn.ReLU(),\n",
    "        )\n",
    "    \n",
    "    def forward(self,x):\n",
    "        return self.gen(x)"
   ]
  },
  {
   "cell_type": "code",
   "execution_count": 12,
   "metadata": {},
   "outputs": [],
   "source": [
    "def initialise_weights(model):\n",
    "    for m in model.modules():\n",
    "        if isinstance(m, (nn.Conv2d, nn.ConvTranspose2d, nn.BatchNorm2d)):\n",
    "            nn.init.normal_(m.weight.data, 0.0, 0.02)\n",
    "\n",
    "def test():\n",
    "    N,in_channels, H,W= 8,3,64,64\n",
    "    z_dim=100\n",
    "    \n",
    "    x=torch.randn((N,in_channels, H,W))\n",
    "    disc= Discriminator(in_channels,8)\n",
    "    initialise_weights(disc)\n",
    "    assert disc(x).shape== (N,1,1,1)\n",
    "    gen= Generator(z_dim,in_channels,8)\n",
    "    initialise_weights(gen)\n",
    "    z= torch.randn((N,z_dim,1,1))\n",
    "    assert gen(z).shape == (N,in_channels,H,W)\n",
    "    print(\"Success\")"
   ]
  }
 ],
 "metadata": {
  "kernelspec": {
   "display_name": "Python 3",
   "language": "python",
   "name": "python3"
  },
  "language_info": {
   "codemirror_mode": {
    "name": "ipython",
    "version": 3
   },
   "file_extension": ".py",
   "mimetype": "text/x-python",
   "name": "python",
   "nbconvert_exporter": "python",
   "pygments_lexer": "ipython3",
   "version": "3.11.5"
  }
 },
 "nbformat": 4,
 "nbformat_minor": 2
}
